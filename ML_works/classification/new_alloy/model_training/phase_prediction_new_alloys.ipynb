{
 "cells": [
  {
   "cell_type": "code",
   "execution_count": 32,
   "metadata": {},
   "outputs": [],
   "source": [
    "import joblib\n",
    "\n",
    "import numpy as np\n",
    "import pandas as pd\n",
    "import matplotlib.pyplot as plt\n",
    "import seaborn as sns\n",
    "import os\n",
    "import pickle"
   ]
  },
  {
   "cell_type": "code",
   "execution_count": 33,
   "metadata": {},
   "outputs": [
    {
     "name": "stdout",
     "output_type": "stream",
     "text": [
      "e:\\research\\HEA_phase_classification\\weighted_features\\classification\\new_alloy\\model_training\n"
     ]
    }
   ],
   "source": [
    "pwd = os.getcwd()\n",
    "print(pwd)"
   ]
  },
  {
   "cell_type": "code",
   "execution_count": 34,
   "metadata": {},
   "outputs": [],
   "source": [
    "# Load the saved scaler and encoder\n",
    "loaded_scaler = joblib.load(pwd + '/scaler/MinMaxScaler.pkl')\n",
    "loaded_encoder = joblib.load(pwd + '/scaler/LabelEncoder.pkl')\n",
    "\n",
    "# Load the saved model\n",
    "with open(pwd + '/saved_models/RandomForestClassifier_optimized.pkl', 'rb') as file:\n",
    "    loaded_model = pickle.load(file)"
   ]
  },
  {
   "cell_type": "code",
   "execution_count": 35,
   "metadata": {},
   "outputs": [
    {
     "name": "stdout",
     "output_type": "stream",
     "text": [
      "(14820, 32)\n"
     ]
    }
   ],
   "source": [
    "data = pd.read_excel(pwd + \"/new_alloy_data/new_alloy_weighted_features_selected_columns.xlsx\")\n",
    "print(data.shape)"
   ]
  },
  {
   "cell_type": "code",
   "execution_count": 36,
   "metadata": {},
   "outputs": [
    {
     "data": {
      "text/plain": [
       "Index(['weighted_volume_1', 'weighted_density_1', 'weighted_form_energy_pa_1',\n",
       "       'weighted_volume_2', 'weighted_density_2', 'weighted_form_energy_pa_2',\n",
       "       'weighted_volume_3', 'weighted_density_3', 'weighted_form_energy_pa_3',\n",
       "       'weighted_volume_4', 'weighted_density_4', 'weighted_form_energy_pa_4',\n",
       "       'weighted_volume_5', 'weighted_density_5', 'weighted_form_energy_pa_5',\n",
       "       'weighted_volume_6', 'weighted_density_6', 'weighted_form_energy_pa_6',\n",
       "       'weighted_volume_7', 'weighted_density_7', 'weighted_form_energy_pa_7',\n",
       "       'weighted_volume_8', 'weighted_density_8', 'weighted_form_energy_pa_8',\n",
       "       'weighted_volume_9', 'weighted_density_9', 'weighted_form_energy_pa_9',\n",
       "       'weighted_volume_10', 'weighted_density_10',\n",
       "       'weighted_form_energy_pa_10'],\n",
       "      dtype='object')"
      ]
     },
     "execution_count": 36,
     "metadata": {},
     "output_type": "execute_result"
    }
   ],
   "source": [
    "features = data.iloc[:, 2:].copy()\n",
    "feature_names = features.columns\n",
    "feature_names"
   ]
  },
  {
   "cell_type": "code",
   "execution_count": 37,
   "metadata": {},
   "outputs": [],
   "source": [
    "X = pd.DataFrame(loaded_scaler.transform(features), columns=feature_names)"
   ]
  },
  {
   "cell_type": "code",
   "execution_count": 38,
   "metadata": {},
   "outputs": [],
   "source": [
    "predicted_phases = loaded_model.predict(X)"
   ]
  },
  {
   "cell_type": "code",
   "execution_count": 39,
   "metadata": {},
   "outputs": [
    {
     "data": {
      "text/plain": [
       "array(['S', 'S', 'S', ..., 'M', 'M', 'M'], dtype=object)"
      ]
     },
     "execution_count": 39,
     "metadata": {},
     "output_type": "execute_result"
    }
   ],
   "source": [
    "loaded_encoder.inverse_transform(predicted_phases)"
   ]
  },
  {
   "cell_type": "code",
   "execution_count": 43,
   "metadata": {},
   "outputs": [
    {
     "data": {
      "text/html": [
       "<div>\n",
       "<style scoped>\n",
       "    .dataframe tbody tr th:only-of-type {\n",
       "        vertical-align: middle;\n",
       "    }\n",
       "\n",
       "    .dataframe tbody tr th {\n",
       "        vertical-align: top;\n",
       "    }\n",
       "\n",
       "    .dataframe thead th {\n",
       "        text-align: right;\n",
       "    }\n",
       "</style>\n",
       "<table border=\"1\" class=\"dataframe\">\n",
       "  <thead>\n",
       "    <tr style=\"text-align: right;\">\n",
       "      <th></th>\n",
       "      <th>HEA_formula</th>\n",
       "      <th>Elements</th>\n",
       "      <th>weighted_volume_1</th>\n",
       "      <th>weighted_density_1</th>\n",
       "      <th>weighted_form_energy_pa_1</th>\n",
       "      <th>weighted_volume_2</th>\n",
       "      <th>weighted_density_2</th>\n",
       "      <th>weighted_form_energy_pa_2</th>\n",
       "      <th>weighted_volume_3</th>\n",
       "      <th>weighted_density_3</th>\n",
       "      <th>...</th>\n",
       "      <th>weighted_volume_8</th>\n",
       "      <th>weighted_density_8</th>\n",
       "      <th>weighted_form_energy_pa_8</th>\n",
       "      <th>weighted_volume_9</th>\n",
       "      <th>weighted_density_9</th>\n",
       "      <th>weighted_form_energy_pa_9</th>\n",
       "      <th>weighted_volume_10</th>\n",
       "      <th>weighted_density_10</th>\n",
       "      <th>weighted_form_energy_pa_10</th>\n",
       "      <th>predicted_phases</th>\n",
       "    </tr>\n",
       "  </thead>\n",
       "  <tbody>\n",
       "    <tr>\n",
       "      <th>0</th>\n",
       "      <td>V0.89Zr0.11Cr0.11W0.11Hf</td>\n",
       "      <td>['V', 'Zr', 'Cr', 'W', 'Hf']</td>\n",
       "      <td>2.438672</td>\n",
       "      <td>0.370533</td>\n",
       "      <td>-0.003858</td>\n",
       "      <td>0.273558</td>\n",
       "      <td>0.033582</td>\n",
       "      <td>-0.000358</td>\n",
       "      <td>1.954511</td>\n",
       "      <td>0.239114</td>\n",
       "      <td>...</td>\n",
       "      <td>17.485931</td>\n",
       "      <td>1.736579</td>\n",
       "      <td>0.006281</td>\n",
       "      <td>1.959665</td>\n",
       "      <td>0.129136</td>\n",
       "      <td>0.000971</td>\n",
       "      <td>0.069392</td>\n",
       "      <td>0.034018</td>\n",
       "      <td>0.000298</td>\n",
       "      <td>S</td>\n",
       "    </tr>\n",
       "    <tr>\n",
       "      <th>1</th>\n",
       "      <td>VZr0.12Cr0.12W0.25Hf</td>\n",
       "      <td>['V', 'Zr', 'Cr', 'W', 'Hf']</td>\n",
       "      <td>4.405630</td>\n",
       "      <td>0.669394</td>\n",
       "      <td>-0.006970</td>\n",
       "      <td>0.539129</td>\n",
       "      <td>0.066184</td>\n",
       "      <td>-0.000706</td>\n",
       "      <td>1.694860</td>\n",
       "      <td>0.207349</td>\n",
       "      <td>...</td>\n",
       "      <td>15.617302</td>\n",
       "      <td>1.551000</td>\n",
       "      <td>0.005610</td>\n",
       "      <td>1.909359</td>\n",
       "      <td>0.125821</td>\n",
       "      <td>0.000946</td>\n",
       "      <td>0.136758</td>\n",
       "      <td>0.067043</td>\n",
       "      <td>0.000586</td>\n",
       "      <td>S</td>\n",
       "    </tr>\n",
       "    <tr>\n",
       "      <th>2</th>\n",
       "      <td>VZr0.12Cr0.12W0.38Hf0.88</td>\n",
       "      <td>['V', 'Zr', 'Cr', 'W', 'Hf']</td>\n",
       "      <td>5.845922</td>\n",
       "      <td>0.888232</td>\n",
       "      <td>-0.009249</td>\n",
       "      <td>0.812933</td>\n",
       "      <td>0.099797</td>\n",
       "      <td>-0.001064</td>\n",
       "      <td>1.479569</td>\n",
       "      <td>0.181010</td>\n",
       "      <td>...</td>\n",
       "      <td>13.633500</td>\n",
       "      <td>1.353983</td>\n",
       "      <td>0.004897</td>\n",
       "      <td>1.894115</td>\n",
       "      <td>0.124817</td>\n",
       "      <td>0.000938</td>\n",
       "      <td>0.206213</td>\n",
       "      <td>0.101091</td>\n",
       "      <td>0.000884</td>\n",
       "      <td>S</td>\n",
       "    </tr>\n",
       "    <tr>\n",
       "      <th>3</th>\n",
       "      <td>VZr0.12Cr0.12W0.5Hf0.75</td>\n",
       "      <td>['V', 'Zr', 'Cr', 'W', 'Hf']</td>\n",
       "      <td>6.608445</td>\n",
       "      <td>1.004090</td>\n",
       "      <td>-0.010455</td>\n",
       "      <td>1.078258</td>\n",
       "      <td>0.132368</td>\n",
       "      <td>-0.001412</td>\n",
       "      <td>1.271145</td>\n",
       "      <td>0.155512</td>\n",
       "      <td>...</td>\n",
       "      <td>11.712976</td>\n",
       "      <td>1.163250</td>\n",
       "      <td>0.004207</td>\n",
       "      <td>1.909359</td>\n",
       "      <td>0.125821</td>\n",
       "      <td>0.000946</td>\n",
       "      <td>0.273517</td>\n",
       "      <td>0.134085</td>\n",
       "      <td>0.001173</td>\n",
       "      <td>S</td>\n",
       "    </tr>\n",
       "    <tr>\n",
       "      <th>4</th>\n",
       "      <td>VZr0.12Cr0.12W0.62Hf0.62</td>\n",
       "      <td>['V', 'Zr', 'Cr', 'W', 'Hf']</td>\n",
       "      <td>6.828837</td>\n",
       "      <td>1.037577</td>\n",
       "      <td>-0.010804</td>\n",
       "      <td>1.347844</td>\n",
       "      <td>0.165463</td>\n",
       "      <td>-0.001764</td>\n",
       "      <td>1.059305</td>\n",
       "      <td>0.129595</td>\n",
       "      <td>...</td>\n",
       "      <td>9.760971</td>\n",
       "      <td>0.969391</td>\n",
       "      <td>0.003506</td>\n",
       "      <td>1.924789</td>\n",
       "      <td>0.126838</td>\n",
       "      <td>0.000953</td>\n",
       "      <td>0.341902</td>\n",
       "      <td>0.167609</td>\n",
       "      <td>0.001466</td>\n",
       "      <td>S</td>\n",
       "    </tr>\n",
       "  </tbody>\n",
       "</table>\n",
       "<p>5 rows × 33 columns</p>\n",
       "</div>"
      ],
      "text/plain": [
       "                HEA_formula                      Elements  weighted_volume_1  \\\n",
       "0  V0.89Zr0.11Cr0.11W0.11Hf  ['V', 'Zr', 'Cr', 'W', 'Hf']           2.438672   \n",
       "1      VZr0.12Cr0.12W0.25Hf  ['V', 'Zr', 'Cr', 'W', 'Hf']           4.405630   \n",
       "2  VZr0.12Cr0.12W0.38Hf0.88  ['V', 'Zr', 'Cr', 'W', 'Hf']           5.845922   \n",
       "3   VZr0.12Cr0.12W0.5Hf0.75  ['V', 'Zr', 'Cr', 'W', 'Hf']           6.608445   \n",
       "4  VZr0.12Cr0.12W0.62Hf0.62  ['V', 'Zr', 'Cr', 'W', 'Hf']           6.828837   \n",
       "\n",
       "   weighted_density_1  weighted_form_energy_pa_1  weighted_volume_2  \\\n",
       "0            0.370533                  -0.003858           0.273558   \n",
       "1            0.669394                  -0.006970           0.539129   \n",
       "2            0.888232                  -0.009249           0.812933   \n",
       "3            1.004090                  -0.010455           1.078258   \n",
       "4            1.037577                  -0.010804           1.347844   \n",
       "\n",
       "   weighted_density_2  weighted_form_energy_pa_2  weighted_volume_3  \\\n",
       "0            0.033582                  -0.000358           1.954511   \n",
       "1            0.066184                  -0.000706           1.694860   \n",
       "2            0.099797                  -0.001064           1.479569   \n",
       "3            0.132368                  -0.001412           1.271145   \n",
       "4            0.165463                  -0.001764           1.059305   \n",
       "\n",
       "   weighted_density_3  ...  weighted_volume_8  weighted_density_8  \\\n",
       "0            0.239114  ...          17.485931            1.736579   \n",
       "1            0.207349  ...          15.617302            1.551000   \n",
       "2            0.181010  ...          13.633500            1.353983   \n",
       "3            0.155512  ...          11.712976            1.163250   \n",
       "4            0.129595  ...           9.760971            0.969391   \n",
       "\n",
       "   weighted_form_energy_pa_8  weighted_volume_9  weighted_density_9  \\\n",
       "0                   0.006281           1.959665            0.129136   \n",
       "1                   0.005610           1.909359            0.125821   \n",
       "2                   0.004897           1.894115            0.124817   \n",
       "3                   0.004207           1.909359            0.125821   \n",
       "4                   0.003506           1.924789            0.126838   \n",
       "\n",
       "   weighted_form_energy_pa_9  weighted_volume_10  weighted_density_10  \\\n",
       "0                   0.000971            0.069392             0.034018   \n",
       "1                   0.000946            0.136758             0.067043   \n",
       "2                   0.000938            0.206213             0.101091   \n",
       "3                   0.000946            0.273517             0.134085   \n",
       "4                   0.000953            0.341902             0.167609   \n",
       "\n",
       "   weighted_form_energy_pa_10  predicted_phases  \n",
       "0                    0.000298                 S  \n",
       "1                    0.000586                 S  \n",
       "2                    0.000884                 S  \n",
       "3                    0.001173                 S  \n",
       "4                    0.001466                 S  \n",
       "\n",
       "[5 rows x 33 columns]"
      ]
     },
     "execution_count": 43,
     "metadata": {},
     "output_type": "execute_result"
    }
   ],
   "source": [
    "data[\"predicted_phases\"] = loaded_encoder.inverse_transform(predicted_phases)\n",
    "data.head()"
   ]
  },
  {
   "cell_type": "code",
   "execution_count": 44,
   "metadata": {},
   "outputs": [
    {
     "data": {
      "text/plain": [
       "(array(['M', 'S'], dtype=object), array([8929, 5891], dtype=int64))"
      ]
     },
     "execution_count": 44,
     "metadata": {},
     "output_type": "execute_result"
    }
   ],
   "source": [
    "np.unique(data[\"predicted_phases\"], return_counts=True)"
   ]
  },
  {
   "cell_type": "code",
   "execution_count": 45,
   "metadata": {},
   "outputs": [
    {
     "data": {
      "text/html": [
       "<div>\n",
       "<style scoped>\n",
       "    .dataframe tbody tr th:only-of-type {\n",
       "        vertical-align: middle;\n",
       "    }\n",
       "\n",
       "    .dataframe tbody tr th {\n",
       "        vertical-align: top;\n",
       "    }\n",
       "\n",
       "    .dataframe thead th {\n",
       "        text-align: right;\n",
       "    }\n",
       "</style>\n",
       "<table border=\"1\" class=\"dataframe\">\n",
       "  <thead>\n",
       "    <tr style=\"text-align: right;\">\n",
       "      <th></th>\n",
       "      <th>HEA_formula</th>\n",
       "      <th>predicted_phases</th>\n",
       "    </tr>\n",
       "  </thead>\n",
       "  <tbody>\n",
       "    <tr>\n",
       "      <th>0</th>\n",
       "      <td>V0.89Zr0.11Cr0.11W0.11Hf</td>\n",
       "      <td>S</td>\n",
       "    </tr>\n",
       "    <tr>\n",
       "      <th>1</th>\n",
       "      <td>VZr0.12Cr0.12W0.25Hf</td>\n",
       "      <td>S</td>\n",
       "    </tr>\n",
       "    <tr>\n",
       "      <th>2</th>\n",
       "      <td>VZr0.12Cr0.12W0.38Hf0.88</td>\n",
       "      <td>S</td>\n",
       "    </tr>\n",
       "    <tr>\n",
       "      <th>3</th>\n",
       "      <td>VZr0.12Cr0.12W0.5Hf0.75</td>\n",
       "      <td>S</td>\n",
       "    </tr>\n",
       "    <tr>\n",
       "      <th>4</th>\n",
       "      <td>VZr0.12Cr0.12W0.62Hf0.62</td>\n",
       "      <td>S</td>\n",
       "    </tr>\n",
       "  </tbody>\n",
       "</table>\n",
       "</div>"
      ],
      "text/plain": [
       "                HEA_formula predicted_phases\n",
       "0  V0.89Zr0.11Cr0.11W0.11Hf                S\n",
       "1      VZr0.12Cr0.12W0.25Hf                S\n",
       "2  VZr0.12Cr0.12W0.38Hf0.88                S\n",
       "3   VZr0.12Cr0.12W0.5Hf0.75                S\n",
       "4  VZr0.12Cr0.12W0.62Hf0.62                S"
      ]
     },
     "execution_count": 45,
     "metadata": {},
     "output_type": "execute_result"
    }
   ],
   "source": [
    "# Selecting the desired columns\n",
    "subset_df = data[['HEA_formula', 'predicted_phases']]\n",
    "\n",
    "# Display the subset DataFrame\n",
    "subset_df.head()"
   ]
  },
  {
   "cell_type": "code",
   "execution_count": 55,
   "metadata": {},
   "outputs": [],
   "source": [
    "df = subset_df.copy()"
   ]
  },
  {
   "cell_type": "code",
   "execution_count": 57,
   "metadata": {},
   "outputs": [
    {
     "data": {
      "text/html": [
       "<div>\n",
       "<style scoped>\n",
       "    .dataframe tbody tr th:only-of-type {\n",
       "        vertical-align: middle;\n",
       "    }\n",
       "\n",
       "    .dataframe tbody tr th {\n",
       "        vertical-align: top;\n",
       "    }\n",
       "\n",
       "    .dataframe thead th {\n",
       "        text-align: right;\n",
       "    }\n",
       "</style>\n",
       "<table border=\"1\" class=\"dataframe\">\n",
       "  <thead>\n",
       "    <tr style=\"text-align: right;\">\n",
       "      <th></th>\n",
       "      <th>HEA_formula</th>\n",
       "      <th>predicted_phases</th>\n",
       "      <th>Base_element</th>\n",
       "    </tr>\n",
       "  </thead>\n",
       "  <tbody>\n",
       "    <tr>\n",
       "      <th>0</th>\n",
       "      <td>V0.89Zr0.11Cr0.11W0.11Hf</td>\n",
       "      <td>S</td>\n",
       "      <td>Hf</td>\n",
       "    </tr>\n",
       "    <tr>\n",
       "      <th>1</th>\n",
       "      <td>VZr0.12Cr0.12W0.25Hf</td>\n",
       "      <td>S</td>\n",
       "      <td>V</td>\n",
       "    </tr>\n",
       "    <tr>\n",
       "      <th>2</th>\n",
       "      <td>VZr0.12Cr0.12W0.38Hf0.88</td>\n",
       "      <td>S</td>\n",
       "      <td>V</td>\n",
       "    </tr>\n",
       "    <tr>\n",
       "      <th>3</th>\n",
       "      <td>VZr0.12Cr0.12W0.5Hf0.75</td>\n",
       "      <td>S</td>\n",
       "      <td>V</td>\n",
       "    </tr>\n",
       "    <tr>\n",
       "      <th>4</th>\n",
       "      <td>VZr0.12Cr0.12W0.62Hf0.62</td>\n",
       "      <td>S</td>\n",
       "      <td>V</td>\n",
       "    </tr>\n",
       "  </tbody>\n",
       "</table>\n",
       "</div>"
      ],
      "text/plain": [
       "                HEA_formula predicted_phases Base_element\n",
       "0  V0.89Zr0.11Cr0.11W0.11Hf                S           Hf\n",
       "1      VZr0.12Cr0.12W0.25Hf                S            V\n",
       "2  VZr0.12Cr0.12W0.38Hf0.88                S            V\n",
       "3   VZr0.12Cr0.12W0.5Hf0.75                S            V\n",
       "4  VZr0.12Cr0.12W0.62Hf0.62                S            V"
      ]
     },
     "execution_count": 57,
     "metadata": {},
     "output_type": "execute_result"
    }
   ],
   "source": [
    "import re\n",
    "\n",
    "def get_base_element(hea_string):\n",
    "    # Split based on element and its fraction\n",
    "    parsed = re.findall(r'([A-Z][a-z]*)(\\d*\\.\\d+|\\d*)', hea_string)\n",
    "    \n",
    "    # If no fraction is given, assume it to be 1 (e.g., V in VZr...)\n",
    "    parsed = [(el, float(frac) if frac else 1.0) for el, frac in parsed]\n",
    "    \n",
    "    # Get the max fraction\n",
    "    max_frac = max(parsed, key=lambda x: x[1])[1]\n",
    "    \n",
    "    # Find all elements with the max fraction\n",
    "    max_elements = [el for el, frac in parsed if frac == max_frac]\n",
    "    \n",
    "    return max_elements[0]  # Return the first one in case of a tie\n",
    "\n",
    "df['Base_element'] = df['HEA_formula'].apply(get_base_element)\n",
    "\n",
    "df.head()"
   ]
  },
  {
   "cell_type": "code",
   "execution_count": 58,
   "metadata": {},
   "outputs": [
    {
     "data": {
      "text/plain": [
       "(array(['Al', 'Co', 'Cr', 'Hf', 'Mo', 'Nb', 'Ta', 'Ti', 'V', 'W', 'Zr'],\n",
       "       dtype=object),\n",
       " array([2390,   84,   84,   84, 2390, 2390, 2390, 2390, 2450,   84,   84],\n",
       "       dtype=int64))"
      ]
     },
     "execution_count": 58,
     "metadata": {},
     "output_type": "execute_result"
    }
   ],
   "source": [
    "np.unique(df[\"Base_element\"], return_counts=True)"
   ]
  },
  {
   "cell_type": "code",
   "execution_count": 60,
   "metadata": {},
   "outputs": [],
   "source": [
    "base_elements = ['V', 'Mo', 'Ti', 'Nb', 'Ta', 'Al']\n",
    "\n",
    "df = df[df[\"Base_element\"].isin(base_elements)]"
   ]
  },
  {
   "cell_type": "code",
   "execution_count": 61,
   "metadata": {},
   "outputs": [
    {
     "data": {
      "text/plain": [
       "(array(['Al', 'Mo', 'Nb', 'Ta', 'Ti', 'V'], dtype=object),\n",
       " array([2390, 2390, 2390, 2390, 2390, 2450], dtype=int64))"
      ]
     },
     "execution_count": 61,
     "metadata": {},
     "output_type": "execute_result"
    }
   ],
   "source": [
    "np.unique(df[\"Base_element\"], return_counts=True)"
   ]
  },
  {
   "cell_type": "code",
   "execution_count": 62,
   "metadata": {},
   "outputs": [],
   "source": [
    "df.to_excel(pwd + \"/new_alloys_and_predicted_phases.xlsx\", index=False)"
   ]
  },
  {
   "cell_type": "code",
   "execution_count": null,
   "metadata": {},
   "outputs": [],
   "source": []
  }
 ],
 "metadata": {
  "kernelspec": {
   "display_name": "regression",
   "language": "python",
   "name": "python3"
  },
  "language_info": {
   "codemirror_mode": {
    "name": "ipython",
    "version": 3
   },
   "file_extension": ".py",
   "mimetype": "text/x-python",
   "name": "python",
   "nbconvert_exporter": "python",
   "pygments_lexer": "ipython3",
   "version": "3.10.8"
  },
  "orig_nbformat": 4
 },
 "nbformat": 4,
 "nbformat_minor": 2
}
