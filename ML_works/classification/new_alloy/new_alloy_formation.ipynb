{
 "cells": [
  {
   "cell_type": "code",
   "execution_count": 27,
   "metadata": {},
   "outputs": [],
   "source": [
    "import pandas as pd\n",
    "import os\n",
    "import re"
   ]
  },
  {
   "cell_type": "code",
   "execution_count": 28,
   "metadata": {},
   "outputs": [
    {
     "name": "stdout",
     "output_type": "stream",
     "text": [
      "e:\\research\\HEA_phase_classification\\weighted_features\\classification\\new_alloy\n"
     ]
    }
   ],
   "source": [
    "pwd = os.getcwd()\n",
    "print(pwd)"
   ]
  },
  {
   "cell_type": "code",
   "execution_count": 29,
   "metadata": {},
   "outputs": [
    {
     "data": {
      "text/html": [
       "<div>\n",
       "<style scoped>\n",
       "    .dataframe tbody tr th:only-of-type {\n",
       "        vertical-align: middle;\n",
       "    }\n",
       "\n",
       "    .dataframe tbody tr th {\n",
       "        vertical-align: top;\n",
       "    }\n",
       "\n",
       "    .dataframe thead th {\n",
       "        text-align: right;\n",
       "    }\n",
       "</style>\n",
       "<table border=\"1\" class=\"dataframe\">\n",
       "  <thead>\n",
       "    <tr style=\"text-align: right;\">\n",
       "      <th></th>\n",
       "      <th>Composition</th>\n",
       "      <th>EquiTibrium conditions</th>\n",
       "      <th>phase_count</th>\n",
       "      <th>PhaseType</th>\n",
       "    </tr>\n",
       "  </thead>\n",
       "  <tbody>\n",
       "    <tr>\n",
       "      <th>0</th>\n",
       "      <td>Al0.25MoNbTiV</td>\n",
       "      <td>AC</td>\n",
       "      <td>s</td>\n",
       "      <td>BCC</td>\n",
       "    </tr>\n",
       "    <tr>\n",
       "      <th>1</th>\n",
       "      <td>Al0.5MoNbTiV</td>\n",
       "      <td>AC</td>\n",
       "      <td>S</td>\n",
       "      <td>BCC</td>\n",
       "    </tr>\n",
       "    <tr>\n",
       "      <th>2</th>\n",
       "      <td>Al0.75MoNbTiV</td>\n",
       "      <td>AC</td>\n",
       "      <td>S</td>\n",
       "      <td>BCC</td>\n",
       "    </tr>\n",
       "    <tr>\n",
       "      <th>3</th>\n",
       "      <td>Al1.5MoNbTiV</td>\n",
       "      <td>AC</td>\n",
       "      <td>S</td>\n",
       "      <td>BCC</td>\n",
       "    </tr>\n",
       "    <tr>\n",
       "      <th>4</th>\n",
       "      <td>AlMoNbTiV</td>\n",
       "      <td>AC</td>\n",
       "      <td>s</td>\n",
       "      <td>BCC</td>\n",
       "    </tr>\n",
       "  </tbody>\n",
       "</table>\n",
       "</div>"
      ],
      "text/plain": [
       "     Composition EquiTibrium conditions phase_count PhaseType\n",
       "0  Al0.25MoNbTiV                     AC           s       BCC\n",
       "1   Al0.5MoNbTiV                     AC           S       BCC\n",
       "2  Al0.75MoNbTiV                     AC           S       BCC\n",
       "3   Al1.5MoNbTiV                     AC           S       BCC\n",
       "4      AlMoNbTiV                     AC           s       BCC"
      ]
     },
     "execution_count": 29,
     "metadata": {},
     "output_type": "execute_result"
    }
   ],
   "source": [
    "# Load the data from the Excel file\n",
    "df = pd.read_excel(pwd + \"/weighted_features_new_alloys.xlsx\")\n",
    "df.head()"
   ]
  },
  {
   "cell_type": "markdown",
   "metadata": {},
   "source": [
    "This script will output the unique elements in all the alloys and their maximum atomic fractions."
   ]
  },
  {
   "cell_type": "code",
   "execution_count": 30,
   "metadata": {},
   "outputs": [
    {
     "name": "stdout",
     "output_type": "stream",
     "text": [
      "{'Al': 1.5, 'Mo': 2.0, 'Nb': 1.54, 'Ti': 2.0, 'V': 3.0, 'Ta': 1.54, 'Zr': 1.5, 'Hf': 1, 'Cr': 1.5, 'Co': 1, 'W': 1, 'Si': 0.5}\n"
     ]
    }
   ],
   "source": [
    "# Regular expression to capture element and atomic fraction\n",
    "pattern = re.compile(r'([A-Z][a-z]*)(\\d*\\.?\\d*)')\n",
    "\n",
    "# Dictionary to hold max atomic fractions\n",
    "max_atomic_fractions = {}\n",
    "\n",
    "# Loop through the dataframe\n",
    "for composition in df[\"Composition\"]:\n",
    "    matches = pattern.findall(composition)\n",
    "    for match in matches:\n",
    "        element = match[0]\n",
    "        fraction = float(match[1]) if match[1] else 1  # if no number is found, assume 1\n",
    "        if element not in max_atomic_fractions:\n",
    "            max_atomic_fractions[element] = fraction\n",
    "        else:\n",
    "            max_atomic_fractions[element] = max(max_atomic_fractions[element], fraction)\n",
    "\n",
    "print(max_atomic_fractions)"
   ]
  },
  {
   "cell_type": "code",
   "execution_count": 31,
   "metadata": {},
   "outputs": [
    {
     "data": {
      "text/html": [
       "<div>\n",
       "<style scoped>\n",
       "    .dataframe tbody tr th:only-of-type {\n",
       "        vertical-align: middle;\n",
       "    }\n",
       "\n",
       "    .dataframe tbody tr th {\n",
       "        vertical-align: top;\n",
       "    }\n",
       "\n",
       "    .dataframe thead th {\n",
       "        text-align: right;\n",
       "    }\n",
       "</style>\n",
       "<table border=\"1\" class=\"dataframe\">\n",
       "  <thead>\n",
       "    <tr style=\"text-align: right;\">\n",
       "      <th></th>\n",
       "      <th>Max Atomic Fraction</th>\n",
       "    </tr>\n",
       "  </thead>\n",
       "  <tbody>\n",
       "    <tr>\n",
       "      <th>V</th>\n",
       "      <td>3.00</td>\n",
       "    </tr>\n",
       "    <tr>\n",
       "      <th>Mo</th>\n",
       "      <td>2.00</td>\n",
       "    </tr>\n",
       "    <tr>\n",
       "      <th>Ti</th>\n",
       "      <td>2.00</td>\n",
       "    </tr>\n",
       "    <tr>\n",
       "      <th>Nb</th>\n",
       "      <td>1.54</td>\n",
       "    </tr>\n",
       "    <tr>\n",
       "      <th>Ta</th>\n",
       "      <td>1.54</td>\n",
       "    </tr>\n",
       "    <tr>\n",
       "      <th>Al</th>\n",
       "      <td>1.50</td>\n",
       "    </tr>\n",
       "    <tr>\n",
       "      <th>Zr</th>\n",
       "      <td>1.50</td>\n",
       "    </tr>\n",
       "    <tr>\n",
       "      <th>Cr</th>\n",
       "      <td>1.50</td>\n",
       "    </tr>\n",
       "    <tr>\n",
       "      <th>Hf</th>\n",
       "      <td>1.00</td>\n",
       "    </tr>\n",
       "    <tr>\n",
       "      <th>Co</th>\n",
       "      <td>1.00</td>\n",
       "    </tr>\n",
       "    <tr>\n",
       "      <th>W</th>\n",
       "      <td>1.00</td>\n",
       "    </tr>\n",
       "    <tr>\n",
       "      <th>Si</th>\n",
       "      <td>0.50</td>\n",
       "    </tr>\n",
       "  </tbody>\n",
       "</table>\n",
       "</div>"
      ],
      "text/plain": [
       "    Max Atomic Fraction\n",
       "V                  3.00\n",
       "Mo                 2.00\n",
       "Ti                 2.00\n",
       "Nb                 1.54\n",
       "Ta                 1.54\n",
       "Al                 1.50\n",
       "Zr                 1.50\n",
       "Cr                 1.50\n",
       "Hf                 1.00\n",
       "Co                 1.00\n",
       "W                  1.00\n",
       "Si                 0.50"
      ]
     },
     "execution_count": 31,
     "metadata": {},
     "output_type": "execute_result"
    }
   ],
   "source": [
    "# Convert the max_atomic_fractions to DataFrame\n",
    "df_max_atomic_fractions = pd.DataFrame.from_dict(max_atomic_fractions, orient='index', columns=['Max Atomic Fraction'])\n",
    "df_max_atomic_fractions = df_max_atomic_fractions.sort_values(by=\"Max Atomic Fraction\", ascending=False)\n",
    "df_max_atomic_fractions"
   ]
  },
  {
   "cell_type": "code",
   "execution_count": 32,
   "metadata": {},
   "outputs": [
    {
     "name": "stderr",
     "output_type": "stream",
     "text": [
      "C:\\Users\\Tohid\\AppData\\Local\\Temp\\ipykernel_17272\\4134847961.py:40: FutureWarning: iteritems is deprecated and will be removed in a future version. Use .items instead.\n",
      "  for idx, val in row.iteritems():\n"
     ]
    },
    {
     "data": {
      "text/html": [
       "<div>\n",
       "<style scoped>\n",
       "    .dataframe tbody tr th:only-of-type {\n",
       "        vertical-align: middle;\n",
       "    }\n",
       "\n",
       "    .dataframe tbody tr th {\n",
       "        vertical-align: top;\n",
       "    }\n",
       "\n",
       "    .dataframe thead th {\n",
       "        text-align: right;\n",
       "    }\n",
       "</style>\n",
       "<table border=\"1\" class=\"dataframe\">\n",
       "  <thead>\n",
       "    <tr style=\"text-align: right;\">\n",
       "      <th></th>\n",
       "      <th>HEA_formula</th>\n",
       "    </tr>\n",
       "  </thead>\n",
       "  <tbody>\n",
       "    <tr>\n",
       "      <th>0</th>\n",
       "      <td>V0.89Zr0.11Cr0.11W0.11Hf</td>\n",
       "    </tr>\n",
       "    <tr>\n",
       "      <th>1</th>\n",
       "      <td>VZr0.12Cr0.12W0.25Hf</td>\n",
       "    </tr>\n",
       "    <tr>\n",
       "      <th>2</th>\n",
       "      <td>VZr0.12Cr0.12W0.38Hf0.88</td>\n",
       "    </tr>\n",
       "    <tr>\n",
       "      <th>3</th>\n",
       "      <td>VZr0.12Cr0.12W0.5Hf0.75</td>\n",
       "    </tr>\n",
       "    <tr>\n",
       "      <th>4</th>\n",
       "      <td>VZr0.12Cr0.12W0.62Hf0.62</td>\n",
       "    </tr>\n",
       "  </tbody>\n",
       "</table>\n",
       "</div>"
      ],
      "text/plain": [
       "                HEA_formula\n",
       "0  V0.89Zr0.11Cr0.11W0.11Hf\n",
       "1      VZr0.12Cr0.12W0.25Hf\n",
       "2  VZr0.12Cr0.12W0.38Hf0.88\n",
       "3   VZr0.12Cr0.12W0.5Hf0.75\n",
       "4  VZr0.12Cr0.12W0.62Hf0.62"
      ]
     },
     "execution_count": 32,
     "metadata": {},
     "output_type": "execute_result"
    }
   ],
   "source": [
    "import itertools\n",
    "import pandas as pd\n",
    "\n",
    "# Define the base elements and other elements\n",
    "base_elements = ['V', 'Mo', 'Ti', 'Nb', 'Ta', 'Al']\n",
    "other_elements = ['Zr', 'Cr', 'W', 'Hf', 'Co']\n",
    "\n",
    "def generate_distributions(remaining, num_elements):\n",
    "    if num_elements == 1:\n",
    "        return [[remaining]]\n",
    "    distributions = []\n",
    "    for i in range(5, remaining, 5):  # Adjusted increment to 5\n",
    "        for rest in generate_distributions(remaining - i, num_elements - 1):\n",
    "            distributions.append([i] + rest)\n",
    "    return distributions\n",
    "\n",
    "data = []\n",
    "\n",
    "# Loop through the base elements\n",
    "for base in base_elements:\n",
    "    # Vary the base element's fraction\n",
    "    for base_fraction in range(40, 76, 5):  # Adjusted increment to 5\n",
    "        remaining_fraction = 100 - base_fraction\n",
    "        # Choose four elements from the 'other_elements' list\n",
    "        for comb in itertools.combinations(other_elements, 4):\n",
    "            # Generate the possible distributions of the remaining_fraction among the 4 elements\n",
    "            for distribution in generate_distributions(remaining_fraction, 4):\n",
    "                HEA = {base: base_fraction}\n",
    "                for el, frac in zip(comb, distribution):\n",
    "                    HEA[el] = frac\n",
    "                data.append(HEA)\n",
    "\n",
    "# Create a dataframe from the data\n",
    "df_HEA = pd.DataFrame(data).fillna(0)\n",
    "\n",
    "# Convert the dataframe rows to HEA formulas\n",
    "def row_to_formula(row):\n",
    "    max_val = row.max()\n",
    "    formula = \"\"\n",
    "    for idx, val in row.iteritems():\n",
    "        if val != 0:\n",
    "            norm_val = round(val / max_val, 2)\n",
    "            formula += f\"{idx}{norm_val if norm_val != 1.0 else ''}\"\n",
    "    return formula\n",
    "\n",
    "df_HEA['HEA_formula'] = df_HEA.apply(row_to_formula, axis=1)\n",
    "\n",
    "# Select only the HEA_formula column\n",
    "df_HEA = df_HEA[['HEA_formula']]\n",
    "\n",
    "df_HEA.head()"
   ]
  },
  {
   "cell_type": "code",
   "execution_count": 33,
   "metadata": {},
   "outputs": [
    {
     "name": "stdout",
     "output_type": "stream",
     "text": [
      "(14820, 1)\n"
     ]
    }
   ],
   "source": [
    "print(df_HEA.shape)"
   ]
  },
  {
   "cell_type": "code",
   "execution_count": 34,
   "metadata": {},
   "outputs": [],
   "source": [
    "from pymatgen.core import Composition"
   ]
  },
  {
   "cell_type": "code",
   "execution_count": 36,
   "metadata": {},
   "outputs": [
    {
     "data": {
      "text/html": [
       "<div>\n",
       "<style scoped>\n",
       "    .dataframe tbody tr th:only-of-type {\n",
       "        vertical-align: middle;\n",
       "    }\n",
       "\n",
       "    .dataframe tbody tr th {\n",
       "        vertical-align: top;\n",
       "    }\n",
       "\n",
       "    .dataframe thead th {\n",
       "        text-align: right;\n",
       "    }\n",
       "</style>\n",
       "<table border=\"1\" class=\"dataframe\">\n",
       "  <thead>\n",
       "    <tr style=\"text-align: right;\">\n",
       "      <th></th>\n",
       "      <th>HEA_formula</th>\n",
       "      <th>Elements</th>\n",
       "    </tr>\n",
       "  </thead>\n",
       "  <tbody>\n",
       "    <tr>\n",
       "      <th>0</th>\n",
       "      <td>V0.89Zr0.11Cr0.11W0.11Hf</td>\n",
       "      <td>[V, Zr, Cr, W, Hf]</td>\n",
       "    </tr>\n",
       "    <tr>\n",
       "      <th>1</th>\n",
       "      <td>VZr0.12Cr0.12W0.25Hf</td>\n",
       "      <td>[V, Zr, Cr, W, Hf]</td>\n",
       "    </tr>\n",
       "    <tr>\n",
       "      <th>2</th>\n",
       "      <td>VZr0.12Cr0.12W0.38Hf0.88</td>\n",
       "      <td>[V, Zr, Cr, W, Hf]</td>\n",
       "    </tr>\n",
       "    <tr>\n",
       "      <th>3</th>\n",
       "      <td>VZr0.12Cr0.12W0.5Hf0.75</td>\n",
       "      <td>[V, Zr, Cr, W, Hf]</td>\n",
       "    </tr>\n",
       "    <tr>\n",
       "      <th>4</th>\n",
       "      <td>VZr0.12Cr0.12W0.62Hf0.62</td>\n",
       "      <td>[V, Zr, Cr, W, Hf]</td>\n",
       "    </tr>\n",
       "  </tbody>\n",
       "</table>\n",
       "</div>"
      ],
      "text/plain": [
       "                HEA_formula            Elements\n",
       "0  V0.89Zr0.11Cr0.11W0.11Hf  [V, Zr, Cr, W, Hf]\n",
       "1      VZr0.12Cr0.12W0.25Hf  [V, Zr, Cr, W, Hf]\n",
       "2  VZr0.12Cr0.12W0.38Hf0.88  [V, Zr, Cr, W, Hf]\n",
       "3   VZr0.12Cr0.12W0.5Hf0.75  [V, Zr, Cr, W, Hf]\n",
       "4  VZr0.12Cr0.12W0.62Hf0.62  [V, Zr, Cr, W, Hf]"
      ]
     },
     "execution_count": 36,
     "metadata": {},
     "output_type": "execute_result"
    }
   ],
   "source": [
    "# Define an empty list to store the elements of each composition\n",
    "elements_list = []\n",
    "\n",
    "# Loop over the compositions in the 'Composition' column\n",
    "for composition in df_HEA['HEA_formula']:\n",
    "    # Create a Pymatgen Composition object from the composition string\n",
    "    pymatgen_comp = Composition(composition)\n",
    "    # Extract the elements from the Composition object\n",
    "    elements = [element.symbol for element in pymatgen_comp.elements]\n",
    "    # Append the list of elements to the elements_list\n",
    "    elements_list.append(elements)\n",
    "\n",
    "# Add a new column to the DataFrame containing the elements without mole fractions\n",
    "df_HEA['Elements'] = elements_list\n",
    "\n",
    "# Print the updated DataFrame\n",
    "df_HEA.head()"
   ]
  },
  {
   "cell_type": "code",
   "execution_count": 37,
   "metadata": {},
   "outputs": [],
   "source": [
    "df_HEA.to_excel(\"df_HEA.xlsx\", index=False)"
   ]
  },
  {
   "cell_type": "code",
   "execution_count": null,
   "metadata": {},
   "outputs": [],
   "source": []
  }
 ],
 "metadata": {
  "kernelspec": {
   "display_name": "regression",
   "language": "python",
   "name": "python3"
  },
  "language_info": {
   "codemirror_mode": {
    "name": "ipython",
    "version": 3
   },
   "file_extension": ".py",
   "mimetype": "text/x-python",
   "name": "python",
   "nbconvert_exporter": "python",
   "pygments_lexer": "ipython3",
   "version": "3.10.8"
  },
  "orig_nbformat": 4
 },
 "nbformat": 4,
 "nbformat_minor": 2
}
