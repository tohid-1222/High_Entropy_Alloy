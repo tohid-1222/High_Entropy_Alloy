{
 "cells": [
  {
   "cell_type": "code",
   "execution_count": 1,
   "metadata": {},
   "outputs": [],
   "source": [
    "import joblib\n",
    "\n",
    "import numpy as np\n",
    "import pandas as pd\n",
    "import matplotlib.pyplot as plt\n",
    "import seaborn as sns\n",
    "import os\n",
    "import pickle"
   ]
  },
  {
   "cell_type": "code",
   "execution_count": 2,
   "metadata": {},
   "outputs": [
    {
     "name": "stdout",
     "output_type": "stream",
     "text": [
      "e:\\research\\HEA_phase_classification\\weighted_features\\classification\\new_alloy\\phase_analysis_exp_data\n"
     ]
    }
   ],
   "source": [
    "pwd = os.getcwd()\n",
    "print(pwd)"
   ]
  },
  {
   "cell_type": "code",
   "execution_count": 4,
   "metadata": {},
   "outputs": [
    {
     "name": "stdout",
     "output_type": "stream",
     "text": [
      "(343, 5)\n"
     ]
    },
    {
     "data": {
      "text/html": [
       "<div>\n",
       "<style scoped>\n",
       "    .dataframe tbody tr th:only-of-type {\n",
       "        vertical-align: middle;\n",
       "    }\n",
       "\n",
       "    .dataframe tbody tr th {\n",
       "        vertical-align: top;\n",
       "    }\n",
       "\n",
       "    .dataframe thead th {\n",
       "        text-align: right;\n",
       "    }\n",
       "</style>\n",
       "<table border=\"1\" class=\"dataframe\">\n",
       "  <thead>\n",
       "    <tr style=\"text-align: right;\">\n",
       "      <th></th>\n",
       "      <th>Composition  (mole fraction)</th>\n",
       "      <th>EquiTibrium conditions</th>\n",
       "      <th>Single/Muplitple_Phase</th>\n",
       "      <th>PhaseType</th>\n",
       "      <th>Reference</th>\n",
       "    </tr>\n",
       "  </thead>\n",
       "  <tbody>\n",
       "    <tr>\n",
       "      <th>0</th>\n",
       "      <td>Al0.25MoNbTiV</td>\n",
       "      <td>AC</td>\n",
       "      <td>s</td>\n",
       "      <td>BCC</td>\n",
       "      <td>3</td>\n",
       "    </tr>\n",
       "    <tr>\n",
       "      <th>1</th>\n",
       "      <td>Al0.5MoNbTiV</td>\n",
       "      <td>AC</td>\n",
       "      <td>S</td>\n",
       "      <td>BCC</td>\n",
       "      <td>3</td>\n",
       "    </tr>\n",
       "    <tr>\n",
       "      <th>2</th>\n",
       "      <td>Al0.75MoNbTiV</td>\n",
       "      <td>AC</td>\n",
       "      <td>S</td>\n",
       "      <td>BCC</td>\n",
       "      <td>3</td>\n",
       "    </tr>\n",
       "    <tr>\n",
       "      <th>3</th>\n",
       "      <td>Al1.5MoNbTiV</td>\n",
       "      <td>AC</td>\n",
       "      <td>S</td>\n",
       "      <td>BCC</td>\n",
       "      <td>3</td>\n",
       "    </tr>\n",
       "    <tr>\n",
       "      <th>4</th>\n",
       "      <td>AlMoNbTiV</td>\n",
       "      <td>AC</td>\n",
       "      <td>s</td>\n",
       "      <td>BCC</td>\n",
       "      <td>3</td>\n",
       "    </tr>\n",
       "  </tbody>\n",
       "</table>\n",
       "</div>"
      ],
      "text/plain": [
       "  Composition  (mole fraction) EquiTibrium conditions Single/Muplitple_Phase  \\\n",
       "0                Al0.25MoNbTiV                     AC                      s   \n",
       "1                 Al0.5MoNbTiV                     AC                      S   \n",
       "2                Al0.75MoNbTiV                     AC                      S   \n",
       "3                 Al1.5MoNbTiV                     AC                      S   \n",
       "4                    AlMoNbTiV                     AC                      s   \n",
       "\n",
       "  PhaseType  Reference  \n",
       "0       BCC          3  \n",
       "1       BCC          3  \n",
       "2       BCC          3  \n",
       "3       BCC          3  \n",
       "4       BCC          3  "
      ]
     },
     "execution_count": 4,
     "metadata": {},
     "output_type": "execute_result"
    }
   ],
   "source": [
    "data = pd.read_excel(pwd + \"/data/hea_data_phases.xlsx\")\n",
    "print(data.shape)\n",
    "data.head()"
   ]
  },
  {
   "cell_type": "code",
   "execution_count": 5,
   "metadata": {},
   "outputs": [],
   "source": [
    "df = data.copy()"
   ]
  },
  {
   "cell_type": "code",
   "execution_count": null,
   "metadata": {},
   "outputs": [],
   "source": [
    "# Filter out rows with empty Element_Fractions dictionaries\n",
    "filtered_data = data[data['Element_Fractions'].apply(lambda x: bool(x))]\n",
    "\n",
    "# Determine the base element for the filtered rows\n",
    "filtered_data['Base_element'] = filtered_data['Element_Fractions'].apply(lambda x: max(x, key=x.get))\n",
    "\n",
    "filtered_data.head()"
   ]
  },
  {
   "cell_type": "code",
   "execution_count": null,
   "metadata": {},
   "outputs": [],
   "source": []
  }
 ],
 "metadata": {
  "kernelspec": {
   "display_name": "regression",
   "language": "python",
   "name": "python3"
  },
  "language_info": {
   "codemirror_mode": {
    "name": "ipython",
    "version": 3
   },
   "file_extension": ".py",
   "mimetype": "text/x-python",
   "name": "python",
   "nbconvert_exporter": "python",
   "pygments_lexer": "ipython3",
   "version": "3.10.8"
  },
  "orig_nbformat": 4
 },
 "nbformat": 4,
 "nbformat_minor": 2
}
