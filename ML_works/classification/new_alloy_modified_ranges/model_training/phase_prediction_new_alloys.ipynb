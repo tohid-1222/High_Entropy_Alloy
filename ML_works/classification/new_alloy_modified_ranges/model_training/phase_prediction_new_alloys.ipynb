{
 "cells": [
  {
   "cell_type": "code",
   "execution_count": 1,
   "metadata": {},
   "outputs": [],
   "source": [
    "import joblib\n",
    "\n",
    "import numpy as np\n",
    "import pandas as pd\n",
    "import matplotlib.pyplot as plt\n",
    "import seaborn as sns\n",
    "import os\n",
    "import pickle"
   ]
  },
  {
   "cell_type": "code",
   "execution_count": 2,
   "metadata": {},
   "outputs": [
    {
     "name": "stdout",
     "output_type": "stream",
     "text": [
      "e:\\research\\HEA_phase_classification\\weighted_features\\classification\\new_alloy_modified_ranges\\model_training\n"
     ]
    }
   ],
   "source": [
    "pwd = os.getcwd()\n",
    "print(pwd)"
   ]
  },
  {
   "cell_type": "code",
   "execution_count": 3,
   "metadata": {},
   "outputs": [],
   "source": [
    "# Load the saved scaler and encoder\n",
    "loaded_scaler = joblib.load(pwd + '/scaler/MinMaxScaler.pkl')\n",
    "loaded_encoder = joblib.load(pwd + '/scaler/LabelEncoder.pkl')\n",
    "\n",
    "# Load the saved model\n",
    "with open(pwd + '/saved_models/RandomForestClassifier_optimized.pkl', 'rb') as file:\n",
    "    loaded_model = pickle.load(file)"
   ]
  },
  {
   "cell_type": "code",
   "execution_count": 4,
   "metadata": {},
   "outputs": [
    {
     "name": "stdout",
     "output_type": "stream",
     "text": [
      "(5850, 32)\n"
     ]
    }
   ],
   "source": [
    "data = pd.read_excel(pwd + \"/new_alloy_data/new_alloy_weighted_features.xlsx\")\n",
    "print(data.shape)"
   ]
  },
  {
   "cell_type": "code",
   "execution_count": 5,
   "metadata": {},
   "outputs": [
    {
     "data": {
      "text/plain": [
       "Index(['weighted_volume_1', 'weighted_density_1', 'weighted_form_energy_pa_1',\n",
       "       'weighted_volume_2', 'weighted_density_2', 'weighted_form_energy_pa_2',\n",
       "       'weighted_volume_3', 'weighted_density_3', 'weighted_form_energy_pa_3',\n",
       "       'weighted_volume_4', 'weighted_density_4', 'weighted_form_energy_pa_4',\n",
       "       'weighted_volume_5', 'weighted_density_5', 'weighted_form_energy_pa_5',\n",
       "       'weighted_volume_6', 'weighted_density_6', 'weighted_form_energy_pa_6',\n",
       "       'weighted_volume_7', 'weighted_density_7', 'weighted_form_energy_pa_7',\n",
       "       'weighted_volume_8', 'weighted_density_8', 'weighted_form_energy_pa_8',\n",
       "       'weighted_volume_9', 'weighted_density_9', 'weighted_form_energy_pa_9',\n",
       "       'weighted_volume_10', 'weighted_density_10',\n",
       "       'weighted_form_energy_pa_10'],\n",
       "      dtype='object')"
      ]
     },
     "execution_count": 5,
     "metadata": {},
     "output_type": "execute_result"
    }
   ],
   "source": [
    "features = data.iloc[:, 2:].copy()\n",
    "feature_names = features.columns\n",
    "feature_names"
   ]
  },
  {
   "cell_type": "code",
   "execution_count": 6,
   "metadata": {},
   "outputs": [],
   "source": [
    "X = pd.DataFrame(loaded_scaler.transform(features), columns=feature_names)"
   ]
  },
  {
   "cell_type": "code",
   "execution_count": 7,
   "metadata": {},
   "outputs": [],
   "source": [
    "predicted_phases = loaded_model.predict(X)"
   ]
  },
  {
   "cell_type": "code",
   "execution_count": 8,
   "metadata": {},
   "outputs": [
    {
     "data": {
      "text/plain": [
       "array(['M', 'M', 'S', ..., 'M', 'M', 'M'], dtype=object)"
      ]
     },
     "execution_count": 8,
     "metadata": {},
     "output_type": "execute_result"
    }
   ],
   "source": [
    "loaded_encoder.inverse_transform(predicted_phases)"
   ]
  },
  {
   "cell_type": "code",
   "execution_count": 9,
   "metadata": {},
   "outputs": [
    {
     "data": {
      "text/html": [
       "<div>\n",
       "<style scoped>\n",
       "    .dataframe tbody tr th:only-of-type {\n",
       "        vertical-align: middle;\n",
       "    }\n",
       "\n",
       "    .dataframe tbody tr th {\n",
       "        vertical-align: top;\n",
       "    }\n",
       "\n",
       "    .dataframe thead th {\n",
       "        text-align: right;\n",
       "    }\n",
       "</style>\n",
       "<table border=\"1\" class=\"dataframe\">\n",
       "  <thead>\n",
       "    <tr style=\"text-align: right;\">\n",
       "      <th></th>\n",
       "      <th>HEA_formula</th>\n",
       "      <th>Elements</th>\n",
       "      <th>weighted_volume_1</th>\n",
       "      <th>weighted_density_1</th>\n",
       "      <th>weighted_form_energy_pa_1</th>\n",
       "      <th>weighted_volume_2</th>\n",
       "      <th>weighted_density_2</th>\n",
       "      <th>weighted_form_energy_pa_2</th>\n",
       "      <th>weighted_volume_3</th>\n",
       "      <th>weighted_density_3</th>\n",
       "      <th>...</th>\n",
       "      <th>weighted_volume_8</th>\n",
       "      <th>weighted_density_8</th>\n",
       "      <th>weighted_form_energy_pa_8</th>\n",
       "      <th>weighted_volume_9</th>\n",
       "      <th>weighted_density_9</th>\n",
       "      <th>weighted_form_energy_pa_9</th>\n",
       "      <th>weighted_volume_10</th>\n",
       "      <th>weighted_density_10</th>\n",
       "      <th>weighted_form_energy_pa_10</th>\n",
       "      <th>predicted_phases</th>\n",
       "    </tr>\n",
       "  </thead>\n",
       "  <tbody>\n",
       "    <tr>\n",
       "      <th>0</th>\n",
       "      <td>V0.75Zr0.25Cr0.25W0.25Hf</td>\n",
       "      <td>['V', 'Zr', 'Cr', 'W', 'Hf']</td>\n",
       "      <td>4.370456</td>\n",
       "      <td>0.664049</td>\n",
       "      <td>-0.006915</td>\n",
       "      <td>1.114218</td>\n",
       "      <td>0.136783</td>\n",
       "      <td>-0.001459</td>\n",
       "      <td>3.502768</td>\n",
       "      <td>0.428528</td>\n",
       "      <td>...</td>\n",
       "      <td>11.619460</td>\n",
       "      <td>1.153963</td>\n",
       "      <td>0.004174</td>\n",
       "      <td>2.959555</td>\n",
       "      <td>0.195026</td>\n",
       "      <td>0.001466</td>\n",
       "      <td>0.282639</td>\n",
       "      <td>0.138557</td>\n",
       "      <td>0.001212</td>\n",
       "      <td>M</td>\n",
       "    </tr>\n",
       "    <tr>\n",
       "      <th>1</th>\n",
       "      <td>V0.86Zr0.29Cr0.29W0.43Hf</td>\n",
       "      <td>['V', 'Zr', 'Cr', 'W', 'Hf']</td>\n",
       "      <td>5.703893</td>\n",
       "      <td>0.866652</td>\n",
       "      <td>-0.009024</td>\n",
       "      <td>1.686836</td>\n",
       "      <td>0.207078</td>\n",
       "      <td>-0.002208</td>\n",
       "      <td>3.083085</td>\n",
       "      <td>0.377184</td>\n",
       "      <td>...</td>\n",
       "      <td>10.109725</td>\n",
       "      <td>1.004027</td>\n",
       "      <td>0.003632</td>\n",
       "      <td>2.987018</td>\n",
       "      <td>0.196836</td>\n",
       "      <td>0.001479</td>\n",
       "      <td>0.427892</td>\n",
       "      <td>0.209764</td>\n",
       "      <td>0.001835</td>\n",
       "      <td>M</td>\n",
       "    </tr>\n",
       "    <tr>\n",
       "      <th>2</th>\n",
       "      <td>VZr0.33Cr0.33W0.67Hf</td>\n",
       "      <td>['V', 'Zr', 'Cr', 'W', 'Hf']</td>\n",
       "      <td>6.601659</td>\n",
       "      <td>1.003059</td>\n",
       "      <td>-0.010445</td>\n",
       "      <td>2.221623</td>\n",
       "      <td>0.272729</td>\n",
       "      <td>-0.002908</td>\n",
       "      <td>2.606014</td>\n",
       "      <td>0.318819</td>\n",
       "      <td>...</td>\n",
       "      <td>8.732050</td>\n",
       "      <td>0.867206</td>\n",
       "      <td>0.003137</td>\n",
       "      <td>2.935828</td>\n",
       "      <td>0.193463</td>\n",
       "      <td>0.001454</td>\n",
       "      <td>0.563549</td>\n",
       "      <td>0.276266</td>\n",
       "      <td>0.002416</td>\n",
       "      <td>S</td>\n",
       "    </tr>\n",
       "    <tr>\n",
       "      <th>3</th>\n",
       "      <td>VZr0.33Cr0.33W0.83Hf0.83</td>\n",
       "      <td>['V', 'Zr', 'Cr', 'W', 'Hf']</td>\n",
       "      <td>6.828837</td>\n",
       "      <td>1.037577</td>\n",
       "      <td>-0.010804</td>\n",
       "      <td>2.768764</td>\n",
       "      <td>0.339896</td>\n",
       "      <td>-0.003625</td>\n",
       "      <td>2.176042</td>\n",
       "      <td>0.266216</td>\n",
       "      <td>...</td>\n",
       "      <td>7.291328</td>\n",
       "      <td>0.724123</td>\n",
       "      <td>0.002619</td>\n",
       "      <td>2.953540</td>\n",
       "      <td>0.194630</td>\n",
       "      <td>0.001463</td>\n",
       "      <td>0.702340</td>\n",
       "      <td>0.344305</td>\n",
       "      <td>0.003012</td>\n",
       "      <td>S</td>\n",
       "    </tr>\n",
       "    <tr>\n",
       "      <th>4</th>\n",
       "      <td>VZr0.33Cr0.33WHf0.67</td>\n",
       "      <td>['V', 'Zr', 'Cr', 'W', 'Hf']</td>\n",
       "      <td>6.601659</td>\n",
       "      <td>1.003059</td>\n",
       "      <td>-0.010445</td>\n",
       "      <td>3.315855</td>\n",
       "      <td>0.407058</td>\n",
       "      <td>-0.004341</td>\n",
       "      <td>1.746030</td>\n",
       "      <td>0.213609</td>\n",
       "      <td>...</td>\n",
       "      <td>5.850474</td>\n",
       "      <td>0.581028</td>\n",
       "      <td>0.002102</td>\n",
       "      <td>2.935828</td>\n",
       "      <td>0.193463</td>\n",
       "      <td>0.001454</td>\n",
       "      <td>0.841118</td>\n",
       "      <td>0.412338</td>\n",
       "      <td>0.003607</td>\n",
       "      <td>S</td>\n",
       "    </tr>\n",
       "  </tbody>\n",
       "</table>\n",
       "<p>5 rows × 33 columns</p>\n",
       "</div>"
      ],
      "text/plain": [
       "                HEA_formula                      Elements  weighted_volume_1  \\\n",
       "0  V0.75Zr0.25Cr0.25W0.25Hf  ['V', 'Zr', 'Cr', 'W', 'Hf']           4.370456   \n",
       "1  V0.86Zr0.29Cr0.29W0.43Hf  ['V', 'Zr', 'Cr', 'W', 'Hf']           5.703893   \n",
       "2      VZr0.33Cr0.33W0.67Hf  ['V', 'Zr', 'Cr', 'W', 'Hf']           6.601659   \n",
       "3  VZr0.33Cr0.33W0.83Hf0.83  ['V', 'Zr', 'Cr', 'W', 'Hf']           6.828837   \n",
       "4      VZr0.33Cr0.33WHf0.67  ['V', 'Zr', 'Cr', 'W', 'Hf']           6.601659   \n",
       "\n",
       "   weighted_density_1  weighted_form_energy_pa_1  weighted_volume_2  \\\n",
       "0            0.664049                  -0.006915           1.114218   \n",
       "1            0.866652                  -0.009024           1.686836   \n",
       "2            1.003059                  -0.010445           2.221623   \n",
       "3            1.037577                  -0.010804           2.768764   \n",
       "4            1.003059                  -0.010445           3.315855   \n",
       "\n",
       "   weighted_density_2  weighted_form_energy_pa_2  weighted_volume_3  \\\n",
       "0            0.136783                  -0.001459           3.502768   \n",
       "1            0.207078                  -0.002208           3.083085   \n",
       "2            0.272729                  -0.002908           2.606014   \n",
       "3            0.339896                  -0.003625           2.176042   \n",
       "4            0.407058                  -0.004341           1.746030   \n",
       "\n",
       "   weighted_density_3  ...  weighted_volume_8  weighted_density_8  \\\n",
       "0            0.428528  ...          11.619460            1.153963   \n",
       "1            0.377184  ...          10.109725            1.004027   \n",
       "2            0.318819  ...           8.732050            0.867206   \n",
       "3            0.266216  ...           7.291328            0.724123   \n",
       "4            0.213609  ...           5.850474            0.581028   \n",
       "\n",
       "   weighted_form_energy_pa_8  weighted_volume_9  weighted_density_9  \\\n",
       "0                   0.004174           2.959555            0.195026   \n",
       "1                   0.003632           2.987018            0.196836   \n",
       "2                   0.003137           2.935828            0.193463   \n",
       "3                   0.002619           2.953540            0.194630   \n",
       "4                   0.002102           2.935828            0.193463   \n",
       "\n",
       "   weighted_form_energy_pa_9  weighted_volume_10  weighted_density_10  \\\n",
       "0                   0.001466            0.282639             0.138557   \n",
       "1                   0.001479            0.427892             0.209764   \n",
       "2                   0.001454            0.563549             0.276266   \n",
       "3                   0.001463            0.702340             0.344305   \n",
       "4                   0.001454            0.841118             0.412338   \n",
       "\n",
       "   weighted_form_energy_pa_10  predicted_phases  \n",
       "0                    0.001212                 M  \n",
       "1                    0.001835                 M  \n",
       "2                    0.002416                 S  \n",
       "3                    0.003012                 S  \n",
       "4                    0.003607                 S  \n",
       "\n",
       "[5 rows x 33 columns]"
      ]
     },
     "execution_count": 9,
     "metadata": {},
     "output_type": "execute_result"
    }
   ],
   "source": [
    "data[\"predicted_phases\"] = loaded_encoder.inverse_transform(predicted_phases)\n",
    "data.head()"
   ]
  },
  {
   "cell_type": "code",
   "execution_count": 10,
   "metadata": {},
   "outputs": [
    {
     "data": {
      "text/plain": [
       "(array(['M', 'S'], dtype=object), array([3832, 2018], dtype=int64))"
      ]
     },
     "execution_count": 10,
     "metadata": {},
     "output_type": "execute_result"
    }
   ],
   "source": [
    "np.unique(data[\"predicted_phases\"], return_counts=True)"
   ]
  },
  {
   "cell_type": "code",
   "execution_count": 11,
   "metadata": {},
   "outputs": [
    {
     "data": {
      "text/html": [
       "<div>\n",
       "<style scoped>\n",
       "    .dataframe tbody tr th:only-of-type {\n",
       "        vertical-align: middle;\n",
       "    }\n",
       "\n",
       "    .dataframe tbody tr th {\n",
       "        vertical-align: top;\n",
       "    }\n",
       "\n",
       "    .dataframe thead th {\n",
       "        text-align: right;\n",
       "    }\n",
       "</style>\n",
       "<table border=\"1\" class=\"dataframe\">\n",
       "  <thead>\n",
       "    <tr style=\"text-align: right;\">\n",
       "      <th></th>\n",
       "      <th>HEA_formula</th>\n",
       "      <th>predicted_phases</th>\n",
       "    </tr>\n",
       "  </thead>\n",
       "  <tbody>\n",
       "    <tr>\n",
       "      <th>0</th>\n",
       "      <td>V0.75Zr0.25Cr0.25W0.25Hf</td>\n",
       "      <td>M</td>\n",
       "    </tr>\n",
       "    <tr>\n",
       "      <th>1</th>\n",
       "      <td>V0.86Zr0.29Cr0.29W0.43Hf</td>\n",
       "      <td>M</td>\n",
       "    </tr>\n",
       "    <tr>\n",
       "      <th>2</th>\n",
       "      <td>VZr0.33Cr0.33W0.67Hf</td>\n",
       "      <td>S</td>\n",
       "    </tr>\n",
       "    <tr>\n",
       "      <th>3</th>\n",
       "      <td>VZr0.33Cr0.33W0.83Hf0.83</td>\n",
       "      <td>S</td>\n",
       "    </tr>\n",
       "    <tr>\n",
       "      <th>4</th>\n",
       "      <td>VZr0.33Cr0.33WHf0.67</td>\n",
       "      <td>S</td>\n",
       "    </tr>\n",
       "  </tbody>\n",
       "</table>\n",
       "</div>"
      ],
      "text/plain": [
       "                HEA_formula predicted_phases\n",
       "0  V0.75Zr0.25Cr0.25W0.25Hf                M\n",
       "1  V0.86Zr0.29Cr0.29W0.43Hf                M\n",
       "2      VZr0.33Cr0.33W0.67Hf                S\n",
       "3  VZr0.33Cr0.33W0.83Hf0.83                S\n",
       "4      VZr0.33Cr0.33WHf0.67                S"
      ]
     },
     "execution_count": 11,
     "metadata": {},
     "output_type": "execute_result"
    }
   ],
   "source": [
    "# Selecting the desired columns\n",
    "subset_df = data[['HEA_formula', 'predicted_phases']]\n",
    "\n",
    "# Display the subset DataFrame\n",
    "subset_df.head()"
   ]
  },
  {
   "cell_type": "code",
   "execution_count": 12,
   "metadata": {},
   "outputs": [],
   "source": [
    "df = subset_df.copy()"
   ]
  },
  {
   "cell_type": "code",
   "execution_count": 13,
   "metadata": {},
   "outputs": [
    {
     "data": {
      "text/html": [
       "<div>\n",
       "<style scoped>\n",
       "    .dataframe tbody tr th:only-of-type {\n",
       "        vertical-align: middle;\n",
       "    }\n",
       "\n",
       "    .dataframe tbody tr th {\n",
       "        vertical-align: top;\n",
       "    }\n",
       "\n",
       "    .dataframe thead th {\n",
       "        text-align: right;\n",
       "    }\n",
       "</style>\n",
       "<table border=\"1\" class=\"dataframe\">\n",
       "  <thead>\n",
       "    <tr style=\"text-align: right;\">\n",
       "      <th></th>\n",
       "      <th>HEA_formula</th>\n",
       "      <th>predicted_phases</th>\n",
       "      <th>Base_element</th>\n",
       "    </tr>\n",
       "  </thead>\n",
       "  <tbody>\n",
       "    <tr>\n",
       "      <th>0</th>\n",
       "      <td>V0.75Zr0.25Cr0.25W0.25Hf</td>\n",
       "      <td>M</td>\n",
       "      <td>Hf</td>\n",
       "    </tr>\n",
       "    <tr>\n",
       "      <th>1</th>\n",
       "      <td>V0.86Zr0.29Cr0.29W0.43Hf</td>\n",
       "      <td>M</td>\n",
       "      <td>Hf</td>\n",
       "    </tr>\n",
       "    <tr>\n",
       "      <th>2</th>\n",
       "      <td>VZr0.33Cr0.33W0.67Hf</td>\n",
       "      <td>S</td>\n",
       "      <td>V</td>\n",
       "    </tr>\n",
       "    <tr>\n",
       "      <th>3</th>\n",
       "      <td>VZr0.33Cr0.33W0.83Hf0.83</td>\n",
       "      <td>S</td>\n",
       "      <td>V</td>\n",
       "    </tr>\n",
       "    <tr>\n",
       "      <th>4</th>\n",
       "      <td>VZr0.33Cr0.33WHf0.67</td>\n",
       "      <td>S</td>\n",
       "      <td>V</td>\n",
       "    </tr>\n",
       "  </tbody>\n",
       "</table>\n",
       "</div>"
      ],
      "text/plain": [
       "                HEA_formula predicted_phases Base_element\n",
       "0  V0.75Zr0.25Cr0.25W0.25Hf                M           Hf\n",
       "1  V0.86Zr0.29Cr0.29W0.43Hf                M           Hf\n",
       "2      VZr0.33Cr0.33W0.67Hf                S            V\n",
       "3  VZr0.33Cr0.33W0.83Hf0.83                S            V\n",
       "4      VZr0.33Cr0.33WHf0.67                S            V"
      ]
     },
     "execution_count": 13,
     "metadata": {},
     "output_type": "execute_result"
    }
   ],
   "source": [
    "import re\n",
    "\n",
    "def get_base_element(hea_string):\n",
    "    # Split based on element and its fraction\n",
    "    parsed = re.findall(r'([A-Z][a-z]*)(\\d*\\.\\d+|\\d*)', hea_string)\n",
    "    \n",
    "    # If no fraction is given, assume it to be 1 (e.g., V in VZr...)\n",
    "    parsed = [(el, float(frac) if frac else 1.0) for el, frac in parsed]\n",
    "    \n",
    "    # Get the max fraction\n",
    "    max_frac = max(parsed, key=lambda x: x[1])[1]\n",
    "    \n",
    "    # Find all elements with the max fraction\n",
    "    max_elements = [el for el, frac in parsed if frac == max_frac]\n",
    "    \n",
    "    return max_elements[0]  # Return the first one in case of a tie\n",
    "\n",
    "df['Base_element'] = df['HEA_formula'].apply(get_base_element)\n",
    "\n",
    "df.head()"
   ]
  },
  {
   "cell_type": "code",
   "execution_count": 14,
   "metadata": {},
   "outputs": [
    {
     "data": {
      "text/plain": [
       "(array(['Al', 'Co', 'Cr', 'Hf', 'Mo', 'Nb', 'Ta', 'Ti', 'V', 'W', 'Zr'],\n",
       "       dtype=object),\n",
       " array([755, 236, 236, 236, 755, 755, 755, 755, 895, 236, 236], dtype=int64))"
      ]
     },
     "execution_count": 14,
     "metadata": {},
     "output_type": "execute_result"
    }
   ],
   "source": [
    "np.unique(df[\"Base_element\"], return_counts=True)"
   ]
  },
  {
   "cell_type": "code",
   "execution_count": 15,
   "metadata": {},
   "outputs": [],
   "source": [
    "base_elements = ['V', 'Mo', 'Ti', 'Nb', 'Ta', 'Al']\n",
    "\n",
    "df = df[df[\"Base_element\"].isin(base_elements)]"
   ]
  },
  {
   "cell_type": "code",
   "execution_count": 16,
   "metadata": {},
   "outputs": [
    {
     "data": {
      "text/plain": [
       "(array(['Al', 'Mo', 'Nb', 'Ta', 'Ti', 'V'], dtype=object),\n",
       " array([755, 755, 755, 755, 755, 895], dtype=int64))"
      ]
     },
     "execution_count": 16,
     "metadata": {},
     "output_type": "execute_result"
    }
   ],
   "source": [
    "np.unique(df[\"Base_element\"], return_counts=True)"
   ]
  },
  {
   "cell_type": "code",
   "execution_count": 17,
   "metadata": {},
   "outputs": [],
   "source": [
    "df.to_excel(pwd + \"/new_alloys_and_predicted_phases.xlsx\", index=False)"
   ]
  },
  {
   "cell_type": "code",
   "execution_count": null,
   "metadata": {},
   "outputs": [],
   "source": []
  }
 ],
 "metadata": {
  "kernelspec": {
   "display_name": "regression",
   "language": "python",
   "name": "python3"
  },
  "language_info": {
   "codemirror_mode": {
    "name": "ipython",
    "version": 3
   },
   "file_extension": ".py",
   "mimetype": "text/x-python",
   "name": "python",
   "nbconvert_exporter": "python",
   "pygments_lexer": "ipython3",
   "version": "3.10.8"
  },
  "orig_nbformat": 4
 },
 "nbformat": 4,
 "nbformat_minor": 2
}
